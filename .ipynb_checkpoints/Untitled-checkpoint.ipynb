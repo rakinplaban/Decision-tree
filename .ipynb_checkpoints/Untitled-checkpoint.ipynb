{
 "cells": [
  {
   "cell_type": "code",
   "execution_count": 70,
   "id": "1a438040",
   "metadata": {},
   "outputs": [],
   "source": [
    "import numpy as np\n",
    "import pandas as pd\n",
    "import matplotlib.pyplot as plt\n",
    "from sklearn.model_selection import train_test_split\n",
    "from sklearn.tree import DecisionTreeRegressor\n",
    "from sklearn.neural_network import MLPRegressor\n",
    "from sklearn.metrics import mean_absolute_error\n",
    "from sklearn.ensemble import RandomForestRegressor, GradientBoostingRegressor"
   ]
  },
  {
   "cell_type": "code",
   "execution_count": 71,
   "id": "bd124cab",
   "metadata": {},
   "outputs": [],
   "source": [
    "df = pd.read_csv(\"C:/Users/Rakin Shahriar/Desktop/Decision tree/california_house_price.csv\")"
   ]
  },
  {
   "cell_type": "code",
   "execution_count": 72,
   "id": "9e9d950f",
   "metadata": {},
   "outputs": [
    {
     "data": {
      "text/plain": [
       "(20640, 10)"
      ]
     },
     "execution_count": 72,
     "metadata": {},
     "output_type": "execute_result"
    }
   ],
   "source": [
    "df.shape"
   ]
  },
  {
   "cell_type": "code",
   "execution_count": 73,
   "id": "f8e975a1",
   "metadata": {},
   "outputs": [],
   "source": [
    "X = df.drop([\"Unnamed: 0\",\"Price\"],axis = 1)"
   ]
  },
  {
   "cell_type": "code",
   "execution_count": 74,
   "id": "529971e7",
   "metadata": {},
   "outputs": [],
   "source": [
    "Y = df[\"Price\"]"
   ]
  },
  {
   "cell_type": "code",
   "execution_count": 75,
   "id": "9df0dd8c",
   "metadata": {},
   "outputs": [
    {
     "data": {
      "text/plain": [
       "(20640, 8)"
      ]
     },
     "execution_count": 75,
     "metadata": {},
     "output_type": "execute_result"
    }
   ],
   "source": [
    "X.shape"
   ]
  },
  {
   "cell_type": "code",
   "execution_count": 76,
   "id": "4e93d6cc",
   "metadata": {},
   "outputs": [
    {
     "data": {
      "text/plain": [
       "(20640,)"
      ]
     },
     "execution_count": 76,
     "metadata": {},
     "output_type": "execute_result"
    }
   ],
   "source": [
    "Y.shape"
   ]
  },
  {
   "cell_type": "code",
   "execution_count": 77,
   "id": "bbfe730b",
   "metadata": {},
   "outputs": [],
   "source": [
    "X_train, X_test, Y_train, Y_test = train_test_split(X,Y, test_size=0.2, random_state=300)"
   ]
  },
  {
   "cell_type": "markdown",
   "id": "84529cce",
   "metadata": {},
   "source": [
    "# Decision Tree"
   ]
  },
  {
   "cell_type": "code",
   "execution_count": 78,
   "id": "24c7a8c9",
   "metadata": {},
   "outputs": [],
   "source": [
    "dt = DecisionTreeRegressor()"
   ]
  },
  {
   "cell_type": "code",
   "execution_count": 79,
   "id": "2f9a10eb",
   "metadata": {},
   "outputs": [],
   "source": [
    "dt_model = dt.fit(X_train,Y_train)"
   ]
  },
  {
   "cell_type": "code",
   "execution_count": 80,
   "id": "bd9153eb",
   "metadata": {},
   "outputs": [],
   "source": [
    "Y_predict_train = dt_model.predict(X_train)"
   ]
  },
  {
   "cell_type": "code",
   "execution_count": 81,
   "id": "a26fdf87",
   "metadata": {},
   "outputs": [
    {
     "name": "stdout",
     "output_type": "stream",
     "text": [
      "3.851355066044632e-17\n"
     ]
    }
   ],
   "source": [
    "MAE = mean_absolute_error(Y_train, Y_predict_train)\n",
    "print(MAE)"
   ]
  },
  {
   "cell_type": "code",
   "execution_count": 82,
   "id": "04fbbbc5",
   "metadata": {},
   "outputs": [],
   "source": [
    "Y_predict = dt_model.predict(X_test)"
   ]
  },
  {
   "cell_type": "code",
   "execution_count": 83,
   "id": "3bdd901b",
   "metadata": {},
   "outputs": [],
   "source": [
    "MAE = mean_absolute_error(Y_test,Y_predict)"
   ]
  },
  {
   "cell_type": "code",
   "execution_count": 84,
   "id": "c7f6196b",
   "metadata": {},
   "outputs": [
    {
     "data": {
      "text/plain": [
       "0.48224945009689923"
      ]
     },
     "execution_count": 84,
     "metadata": {},
     "output_type": "execute_result"
    }
   ],
   "source": [
    "MAE"
   ]
  },
  {
   "cell_type": "markdown",
   "id": "36f024fc",
   "metadata": {},
   "source": [
    "# Neural Network"
   ]
  },
  {
   "cell_type": "code",
   "execution_count": 85,
   "id": "556f53af",
   "metadata": {},
   "outputs": [],
   "source": [
    "nn = MLPRegressor(activation='tanh', alpha=0.01)\n",
    "# alpha for L2 regularization"
   ]
  },
  {
   "cell_type": "code",
   "execution_count": 86,
   "id": "bc192a6b",
   "metadata": {},
   "outputs": [],
   "source": [
    "nn = nn.fit(X_train,Y_train)"
   ]
  },
  {
   "cell_type": "code",
   "execution_count": 87,
   "id": "154c274d",
   "metadata": {},
   "outputs": [],
   "source": [
    "Y_pred_train = nn.predict(X_train)"
   ]
  },
  {
   "cell_type": "code",
   "execution_count": 88,
   "id": "f304d974",
   "metadata": {},
   "outputs": [
    {
     "name": "stdout",
     "output_type": "stream",
     "text": [
      "0.5685080907889516\n"
     ]
    }
   ],
   "source": [
    "MAE = mean_absolute_error(Y_train, Y_pred_train)\n",
    "print(MAE)"
   ]
  },
  {
   "cell_type": "code",
   "execution_count": 89,
   "id": "7f464b24",
   "metadata": {},
   "outputs": [],
   "source": [
    "Y_pred = nn.predict(X_test)"
   ]
  },
  {
   "cell_type": "code",
   "execution_count": 90,
   "id": "6462eaf0",
   "metadata": {},
   "outputs": [
    {
     "name": "stdout",
     "output_type": "stream",
     "text": [
      "0.5612278534991086\n"
     ]
    }
   ],
   "source": [
    "MAE = mean_absolute_error(Y_test, Y_pred)\n",
    "print(MAE)"
   ]
  },
  {
   "cell_type": "markdown",
   "id": "531ce92a",
   "metadata": {},
   "source": [
    "# Random Forest"
   ]
  },
  {
   "cell_type": "code",
   "execution_count": 91,
   "id": "c5d256e9",
   "metadata": {},
   "outputs": [],
   "source": [
    "# by default (Resampline with Replacement) bootstrap = True,\n",
    "# by default 100 trees.\n",
    "# max_depth = None\n",
    "\n",
    "rf = RandomForestRegressor(criterion = 'absolute_error',n_estimators=3)"
   ]
  },
  {
   "cell_type": "code",
   "execution_count": 92,
   "id": "fa5997ca",
   "metadata": {},
   "outputs": [],
   "source": [
    "rf = rf.fit(X_train,Y_train)"
   ]
  },
  {
   "cell_type": "code",
   "execution_count": 93,
   "id": "7aa0e206",
   "metadata": {},
   "outputs": [],
   "source": [
    "Y_pred_rf_train = rf.predict(X_train)"
   ]
  },
  {
   "cell_type": "code",
   "execution_count": 94,
   "id": "8b0f2914",
   "metadata": {},
   "outputs": [
    {
     "name": "stdout",
     "output_type": "stream",
     "text": [
      "0.16320157945736435\n"
     ]
    }
   ],
   "source": [
    "MAE = mean_absolute_error(Y_pred_rf_train, Y_train)\n",
    "print(MAE)"
   ]
  },
  {
   "cell_type": "code",
   "execution_count": 95,
   "id": "90eb4651",
   "metadata": {},
   "outputs": [],
   "source": [
    "Y_pred_rf = rf.predict(X_test)"
   ]
  },
  {
   "cell_type": "code",
   "execution_count": 96,
   "id": "d32dcbf0",
   "metadata": {},
   "outputs": [
    {
     "name": "stdout",
     "output_type": "stream",
     "text": [
      "0.39324390019379846\n"
     ]
    }
   ],
   "source": [
    "MAE = mean_absolute_error(Y_pred_rf, Y_test)\n",
    "print(MAE)"
   ]
  },
  {
   "cell_type": "markdown",
   "id": "2d675c8f",
   "metadata": {},
   "source": [
    "# Gradiant Boosting"
   ]
  },
  {
   "cell_type": "code",
   "execution_count": 97,
   "id": "0fa65618",
   "metadata": {},
   "outputs": [],
   "source": [
    "gb = GradientBoostingRegressor(loss = 'absolute_error')"
   ]
  },
  {
   "cell_type": "code",
   "execution_count": 98,
   "id": "81a894c9",
   "metadata": {},
   "outputs": [],
   "source": [
    "gb = gb.fit(X_train, Y_train)"
   ]
  },
  {
   "cell_type": "code",
   "execution_count": 99,
   "id": "5ac3663c",
   "metadata": {},
   "outputs": [],
   "source": [
    "Y_pred_gb_train = gb.predict(X_train)"
   ]
  },
  {
   "cell_type": "code",
   "execution_count": 100,
   "id": "f14b854d",
   "metadata": {},
   "outputs": [
    {
     "name": "stdout",
     "output_type": "stream",
     "text": [
      "0.37330305084095694\n"
     ]
    }
   ],
   "source": [
    "MAE = mean_absolute_error(Y_pred_gb_train, Y_train)\n",
    "print(MAE)"
   ]
  },
  {
   "cell_type": "code",
   "execution_count": 101,
   "id": "466f6c04",
   "metadata": {},
   "outputs": [],
   "source": [
    "Y_pred_gb = gb.predict(X_test)"
   ]
  },
  {
   "cell_type": "code",
   "execution_count": 102,
   "id": "b7caa438",
   "metadata": {},
   "outputs": [
    {
     "name": "stdout",
     "output_type": "stream",
     "text": [
      "0.38283241645752075\n"
     ]
    }
   ],
   "source": [
    "MAE = mean_absolute_error(Y_pred_gb, Y_test)\n",
    "print(MAE)"
   ]
  },
  {
   "cell_type": "code",
   "execution_count": null,
   "id": "f8d4ceb0",
   "metadata": {},
   "outputs": [],
   "source": []
  }
 ],
 "metadata": {
  "kernelspec": {
   "display_name": "Python 3 (ipykernel)",
   "language": "python",
   "name": "python3"
  },
  "language_info": {
   "codemirror_mode": {
    "name": "ipython",
    "version": 3
   },
   "file_extension": ".py",
   "mimetype": "text/x-python",
   "name": "python",
   "nbconvert_exporter": "python",
   "pygments_lexer": "ipython3",
   "version": "3.7.13"
  }
 },
 "nbformat": 4,
 "nbformat_minor": 5
}
